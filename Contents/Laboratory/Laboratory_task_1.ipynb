{
  "nbformat": 4,
  "nbformat_minor": 0,
  "metadata": {
    "colab": {
      "provenance": []
    },
    "kernelspec": {
      "name": "python3",
      "display_name": "Python 3"
    },
    "language_info": {
      "name": "python"
    }
  },
  "cells": [
    {
      "cell_type": "markdown",
      "source": [
        "#### Name : Jezzel Faith Q Gier\n",
        "#### Section : DS4A\n"
      ],
      "metadata": {
        "id": "0Nw-5nCaT9ak"
      }
    },
    {
      "cell_type": "markdown",
      "source": [
        "#### **Example Scenario:**\n",
        "\n",
        "Dr. Jake is a medical doctor and the CEO of Astro JR, a giant pharmaceutical company in the Philippines. To support the production and use of AstroJR's COVID19 vaccine, this company has implemented a number of business intelligence and data analytics tools. Your task is to provide the appropriate and necessary analytical questions Dr. Jake must ask his analytics team in order to provide better deployment and production of COVID19 vaccines around the world using descriptive, predictive, and prescriptive analytics."
      ],
      "metadata": {
        "id": "U0HgcoqFUHyC"
      }
    },
    {
      "cell_type": "markdown",
      "source": [
        "#**Laboratory** **Task 1**\n",
        "**Instruction:** From the example scenario above, create additional two inquiries for each type of data analytics."
      ],
      "metadata": {
        "id": "psFvteOrUOTw"
      }
    },
    {
      "cell_type": "markdown",
      "source": [
        "# **Descriptive Analytics**\n",
        "\n",
        "(Focus: What happened?)\n",
        "\n",
        "- How many doses of AstroJR’s COVID-19 vaccine were distributed across each region in the past month?\n",
        "\n",
        "- What is the current vaccination rate compared to the previous quarter?"
      ],
      "metadata": {
        "id": "wUgyUTkYUe3P"
      }
    },
    {
      "cell_type": "markdown",
      "source": [
        "# **Diagnostic Analytics**\n",
        "\n",
        "(Focus: Why did it happen?)\n",
        "\n",
        "- Why did vaccine demand decline in certain regions despite an increase in infection rates?\n",
        "\n",
        "- What factors contributed to delays in vaccine distribution in rural areas?"
      ],
      "metadata": {
        "id": "AGEKYcg7UoLG"
      }
    },
    {
      "cell_type": "markdown",
      "source": [
        "# **Predictive Analytics**\n",
        "\n",
        "(Focus: What will happen?)\n",
        "\n",
        "- How many vaccine doses will be required in the next three months based on current infection and vaccination trends?\n",
        "\n",
        "- What is the projected vaccination rate by the end of the year if the current pace continues?"
      ],
      "metadata": {
        "id": "eiF3dFJqUwSa"
      }
    },
    {
      "cell_type": "markdown",
      "source": [
        "# **Prescriptive Analytics**\n",
        "\n",
        "(Focus: What should be done?)\n",
        "\n",
        "- If vaccine supply shortages are expected, how should distribution be prioritized to minimize the spread of infection?\n",
        "\n",
        "- What production adjustments should be made to meet the anticipated increase in global vaccine demand next quarter?"
      ],
      "metadata": {
        "id": "W-D5_XVrU5mu"
      }
    }
  ]
}